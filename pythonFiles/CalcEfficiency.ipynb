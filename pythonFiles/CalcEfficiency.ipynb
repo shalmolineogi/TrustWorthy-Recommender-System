{
 "cells": [
  {
   "cell_type": "code",
   "execution_count": 16,
   "metadata": {},
   "outputs": [],
   "source": [
    "import numpy as np\n",
    "import pandas as pd\n",
    "import matplotlib.pyplot as plt"
   ]
  },
  {
   "cell_type": "code",
   "execution_count": 3,
   "metadata": {},
   "outputs": [],
   "source": [
    "# All global variables\n",
    "TrustMatrix = None\n",
    "UserRating = None\n",
    "nUser,mItem = 0,0\n",
    "efclist = []\n",
    "trustMatrices = [\n",
    "    'Average_Trust',\n",
    "    'Lathia_Et_al_Trust',\n",
    "    'Donvon_Smyth_Trust',\n",
    "    'Shambour_Lu_Trust',\n",
    "    'BediSharma_Trust'\n",
    "]\n",
    "def resetAll():\n",
    "    global TrustMatrix,UserRating,nUser,mItem,efclist \n",
    "    TrustMatrix = None\n",
    "    UserRating = None\n",
    "    nUser,mItem = 0,0\n",
    "    efclist = []\n",
    "    "
   ]
  },
  {
   "cell_type": "code",
   "execution_count": 5,
   "metadata": {},
   "outputs": [],
   "source": [
    "def readTrustMatrix(matrixName):\n",
    "    global TrustMatrix\n",
    "    TrustMatrix = pd.read_csv(matrixName,index_col = 0)\n",
    "    TrustMatrix.index.name = 'userIdRow'\n",
    "    TrustMatrix.columns.name = 'userIdCol'"
   ]
  },
  {
   "cell_type": "code",
   "execution_count": 6,
   "metadata": {},
   "outputs": [],
   "source": [
    "def readRatingMatrix(matrixName):\n",
    "    global UserRating,nUser,mItem\n",
    "    UserRating = pd.read_csv(matrixName,index_col=0)\n",
    "    UserRating.columns.name = 'ItemTitle'\n",
    "    nUser,mItem = UserRating.shape\n",
    "    print(nUser,mItem)"
   ]
  },
  {
   "cell_type": "code",
   "execution_count": 7,
   "metadata": {},
   "outputs": [],
   "source": [
    "def findSimilarUser(targetUser, nTrusted):\n",
    "    similar = TrustMatrix[str(targetUser)].sort_values(ascending=False).head(nTrusted)\n",
    "    similar = similar.keys()\n",
    "    similar = np.delete(similar,0)\n",
    "    return similar"
   ]
  },
  {
   "cell_type": "code",
   "execution_count": 8,
   "metadata": {},
   "outputs": [],
   "source": [
    "def correctPrediction(ur1,ur2,minRateDiff):\n",
    "    m,n = len(ur1),len(ur2)\n",
    "    total,correct = 0,0\n",
    "    if m == n:\n",
    "        for i in range(n):\n",
    "            val1 = float(ur1[i])\n",
    "            val2 = float(ur2[i])\n",
    "            if val1 == val1 and val2 == val2:\n",
    "                #print(val1,val2)\n",
    "                total = total + 1\n",
    "                if abs(val1-val2) <= minRateDiff:\n",
    "                    correct = correct + 1\n",
    "        return(correct/total)\n",
    "    else:\n",
    "        print(\"Can not be done\")\n",
    "        retirn -1\n",
    "        "
   ]
  },
  {
   "cell_type": "code",
   "execution_count": 9,
   "metadata": {},
   "outputs": [],
   "source": [
    "def calcCorrectPrediction(user,nTrusted,minRateDiff):\n",
    "    target = TrustMatrix.index[user]\n",
    "    similaruser = findSimilarUser(target,nTrusted+1)\n",
    "    #print(target,similaruser,minTrust)\n",
    "    SimilarUserTable = (UserRating.loc[similaruser]).transpose()\n",
    "    SimilarUserTable['Average'] = pd.DataFrame(SimilarUserTable.mean(axis = 1))\n",
    "    avgAll = SimilarUserTable['Average']\n",
    "    return correctPrediction(avgAll,UserRating.loc[target],minRateDiff)\n",
    "    "
   ]
  },
  {
   "cell_type": "code",
   "execution_count": 10,
   "metadata": {},
   "outputs": [],
   "source": [
    "def driver(trMatrix,nTrusted,minRateDiff):\n",
    "    global efclist\n",
    "    sm = 0\n",
    "    correctPred = []\n",
    "    x = []\n",
    "    # for i in range(nUser):\n",
    "    #     val = calcCorrectPrediction(i,nTrusted,minRateDiff)\n",
    "    #     correctPred.append(val*100)\n",
    "    #     x.append(i)\n",
    "    #     sm += val\n",
    "    randomNTrusted = np.random.randint(low=2, high=11, size=(15))\n",
    "    for i in randomNTrusted:\n",
    "        val = calcCorrectPrediction(0,i,minRateDiff)\n",
    "        correctPred.append(val*100)\n",
    "        x.append(i)\n",
    "        sm += val\n",
    "    efc = round(((sm/len(randomNTrusted))*100),2)\n",
    "    efclist.append(efc)\n",
    "    print('Average correct rating prediction for all using ',trMatrix,' : ',efc,' %')\n",
    "    plotData(randomNTrusted,correctPred,trMatrix)"
   ]
  },
  {
   "cell_type": "code",
   "execution_count": 11,
   "metadata": {},
   "outputs": [],
   "source": [
    "def plotData(x,y,tr):\n",
    "    plt.scatter(x,y)\n",
    "    plt.xlabel('User')\n",
    "    plt.ylabel('Correct prediction (%)')\n",
    "    plt.title('Prediction correctnes using '+tr)\n",
    "    plt.show()"
   ]
  },
  {
   "cell_type": "code",
   "execution_count": 12,
   "metadata": {},
   "outputs": [
    {
     "output_type": "error",
     "ename": "AttributeError",
     "evalue": "module 'pandas' has no attribute 'read_csv'",
     "traceback": [
      "\u001b[1;31m---------------------------------------------------------------------------\u001b[0m",
      "\u001b[1;31mAttributeError\u001b[0m                            Traceback (most recent call last)",
      "\u001b[1;32m<ipython-input-12-14237aa1b776>\u001b[0m in \u001b[0;36m<module>\u001b[1;34m\u001b[0m\n\u001b[0;32m      1\u001b[0m \u001b[0mresetAll\u001b[0m\u001b[1;33m(\u001b[0m\u001b[1;33m)\u001b[0m\u001b[1;33m\u001b[0m\u001b[1;33m\u001b[0m\u001b[0m\n\u001b[1;32m----> 2\u001b[1;33m \u001b[0mreadRatingMatrix\u001b[0m\u001b[1;33m(\u001b[0m\u001b[1;34m'UserBookRatings.csv'\u001b[0m\u001b[1;33m)\u001b[0m\u001b[1;33m\u001b[0m\u001b[1;33m\u001b[0m\u001b[0m\n\u001b[0m",
      "\u001b[1;32m<ipython-input-6-39477cb54478>\u001b[0m in \u001b[0;36mreadRatingMatrix\u001b[1;34m(matrixName)\u001b[0m\n\u001b[0;32m      1\u001b[0m \u001b[1;32mdef\u001b[0m \u001b[0mreadRatingMatrix\u001b[0m\u001b[1;33m(\u001b[0m\u001b[0mmatrixName\u001b[0m\u001b[1;33m)\u001b[0m\u001b[1;33m:\u001b[0m\u001b[1;33m\u001b[0m\u001b[1;33m\u001b[0m\u001b[0m\n\u001b[0;32m      2\u001b[0m     \u001b[1;32mglobal\u001b[0m \u001b[0mUserRating\u001b[0m\u001b[1;33m,\u001b[0m\u001b[0mnUser\u001b[0m\u001b[1;33m,\u001b[0m\u001b[0mmItem\u001b[0m\u001b[1;33m\u001b[0m\u001b[1;33m\u001b[0m\u001b[0m\n\u001b[1;32m----> 3\u001b[1;33m     \u001b[0mUserRating\u001b[0m \u001b[1;33m=\u001b[0m \u001b[0mpd\u001b[0m\u001b[1;33m.\u001b[0m\u001b[0mread_csv\u001b[0m\u001b[1;33m(\u001b[0m\u001b[0mmatrixName\u001b[0m\u001b[1;33m,\u001b[0m\u001b[0mindex_col\u001b[0m\u001b[1;33m=\u001b[0m\u001b[1;36m0\u001b[0m\u001b[1;33m)\u001b[0m\u001b[1;33m\u001b[0m\u001b[1;33m\u001b[0m\u001b[0m\n\u001b[0m\u001b[0;32m      4\u001b[0m     \u001b[0mUserRating\u001b[0m\u001b[1;33m.\u001b[0m\u001b[0mcolumns\u001b[0m\u001b[1;33m.\u001b[0m\u001b[0mname\u001b[0m \u001b[1;33m=\u001b[0m \u001b[1;34m'ItemTitle'\u001b[0m\u001b[1;33m\u001b[0m\u001b[1;33m\u001b[0m\u001b[0m\n\u001b[0;32m      5\u001b[0m     \u001b[0mnUser\u001b[0m\u001b[1;33m,\u001b[0m\u001b[0mmItem\u001b[0m \u001b[1;33m=\u001b[0m \u001b[0mUserRating\u001b[0m\u001b[1;33m.\u001b[0m\u001b[0mshape\u001b[0m\u001b[1;33m\u001b[0m\u001b[1;33m\u001b[0m\u001b[0m\n",
      "\u001b[1;31mAttributeError\u001b[0m: module 'pandas' has no attribute 'read_csv'"
     ]
    }
   ],
   "source": [
    "resetAll()\n",
    "readRatingMatrix('UserBookRatings.csv')"
   ]
  },
  {
   "cell_type": "code",
   "execution_count": null,
   "metadata": {},
   "outputs": [],
   "source": [
    "readTrustMatrix('Average_Trust_MatrixMovie.csv')\n",
    "driver('Average_Trust',10,0.5)"
   ]
  },
  {
   "cell_type": "code",
   "execution_count": null,
   "metadata": {},
   "outputs": [],
   "source": [
    "readTrustMatrix('Lathia_Et_al_TrustMatrixMovie.csv')\n",
    "driver('Lathia_Et_al_Trust',10,0.5)"
   ]
  },
  {
   "cell_type": "code",
   "execution_count": null,
   "metadata": {},
   "outputs": [],
   "source": [
    "readTrustMatrix('Donvon_Smyth_TrustMatrixMovie.csv')\n",
    "driver('Donvon_Smyth_Trust',10,0.5)"
   ]
  },
  {
   "cell_type": "code",
   "execution_count": null,
   "metadata": {},
   "outputs": [],
   "source": [
    "readTrustMatrix('Shambour_Lu_TrustMatrixMovie.csv')\n",
    "driver('Shambour_Lu_Trust',10,0.5)"
   ]
  },
  {
   "cell_type": "code",
   "execution_count": null,
   "metadata": {},
   "outputs": [],
   "source": [
    "readTrustMatrix('../csvFiles/TrustMatrices/BediSharma_Trust_Trust_MatrixMovie.csv')\n",
    "driver('BediSharma_Trust',10,0.5)"
   ]
  },
  {
   "cell_type": "code",
   "execution_count": null,
   "metadata": {},
   "outputs": [],
   "source": [
    "barsname = ('T1','T2','T3','T4','T5')\n",
    "for i in range(5):\n",
    "    print(barsname[i],\"--> \",trustMatrices[i],\"-- Efficiency :\",efclist[i],\"%\")\n",
    "yPos = [0,2,4,6,8]\n",
    "barColors=['m', 'red', 'green', 'blue', 'cyan']\n",
    "plt.bar(yPos,efclist,color = barColors)\n",
    "plt.xticks(yPos,barsname)\n",
    "plt.ylabel('Efficiency (%)')\n",
    "plt.title('Trust Matrices vs Efficiency')\n",
    "plt.show()"
   ]
  },
  {
   "cell_type": "code",
   "execution_count": null,
   "metadata": {},
   "outputs": [],
   "source": [
    "barsname = ('T1','T2','T3','T4')\n",
    "for i in range(4):\n",
    "    print(barsname[i],\"--> \",trustMatrices[i],\"-- Efficiency :\",efclist[i],\"%\")\n",
    "yPos = [0,2,4,6]\n",
    "barColors=['m', 'red', 'green', 'blue']\n",
    "plt.bar(yPos,efclist,color = barColors)\n",
    "plt.xticks(yPos,barsname)\n",
    "plt.ylabel('Efficiency (%)')\n",
    "plt.title('Trust Matrices vs Efficiency')\n",
    "plt.show()"
   ]
  },
  {
   "cell_type": "code",
   "execution_count": null,
   "metadata": {},
   "outputs": [],
   "source": []
  },
  {
   "cell_type": "code",
   "execution_count": null,
   "metadata": {},
   "outputs": [],
   "source": [
    "s = pd.read_csv(\"../All CSV/UserBookRatings.csv\")"
   ]
  }
 ],
 "metadata": {
  "kernelspec": {
   "display_name": "Python 3",
   "language": "python",
   "name": "python3"
  },
  "language_info": {
   "codemirror_mode": {
    "name": "ipython",
    "version": 3
   },
   "file_extension": ".py",
   "mimetype": "text/x-python",
   "name": "python",
   "nbconvert_exporter": "python",
   "pygments_lexer": "ipython3",
   "version": "3.7.6-final"
  }
 },
 "nbformat": 4,
 "nbformat_minor": 2
}