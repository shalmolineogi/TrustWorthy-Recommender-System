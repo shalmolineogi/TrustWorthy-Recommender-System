{
  "cells": [
    {
      "cell_type": "code",
      "execution_count": 2,
      "metadata": {},
      "outputs": [],
      "source": [
        "import pandas as pd\n",
        "import numpy as np"
      ]
    },
    {
      "cell_type": "code",
      "metadata": {
        "id": "110NZ7c2QB-Y",
        "colab_type": "code",
        "outputId": "089470f4-3a81-4206-bb56-5577c5128ab0",
        "colab": {
          "base_uri": "https://localhost:8080/",
          "height": 284
        }
      },
      "source": [
        "UserFeatures = pd.read_csv('UserFeature/user_features.csv',index_col = 0)\n",
        "UserFeatures.columns.name = 'Feature'\n",
        "UserFeatures.head()"
      ],
      "execution_count": 5,
      "outputs": [
        {
          "output_type": "execute_result",
          "data": {
            "text/plain": "Feature         0         1         2         3         4         5         6  \\\nUser                                                                            \n0       -0.023850 -0.010317  0.043563  0.033008 -0.008568 -0.062246 -0.032498   \n1        0.004085  0.001533  0.009338 -0.004281  0.003913 -0.001472  0.002720   \n2       -0.000219  0.027465 -0.013980 -0.005643  0.012661 -0.012984  0.008223   \n3       -0.132685  0.040978  0.054601 -0.244933 -0.088854 -0.155847  0.030727   \n4        0.025887 -0.005396  0.021183 -0.000720 -0.004422  0.007147  0.011078   \n\nFeature         7         8         9  ...        40        41        42  \\\nUser                                   ...                                 \n0        0.065519 -0.022356 -0.087996  ... -0.045332  0.019596 -0.004090   \n1        0.014102 -0.000041 -0.006346  ...  0.000233  0.003945  0.001471   \n2       -0.003481 -0.017689  0.022440  ...  0.008264  0.030386  0.006232   \n3       -0.030349  0.077923 -0.004483  ... -0.006016  0.018584  0.000894   \n4        0.020184 -0.007103 -0.003843  ...  0.001725  0.005426  0.004276   \n\nFeature        43        44        45        46        47        48        49  \nUser                                                                           \n0       -0.008276  0.008428  0.009293 -0.039601  0.063574 -0.047043  0.065100  \n1        0.000503  0.004477  0.000182 -0.002312 -0.001367  0.004165 -0.001497  \n2        0.007298  0.018440 -0.011802 -0.002255 -0.007778  0.007252 -0.011537  \n3       -0.046703  0.015575 -0.010407  0.005785  0.017658  0.030165 -0.022175  \n4       -0.002932  0.002457  0.005183  0.005671  0.000756  0.001015 -0.005952  \n\n[5 rows x 50 columns]",
            "text/html": "<div>\n<style scoped>\n    .dataframe tbody tr th:only-of-type {\n        vertical-align: middle;\n    }\n\n    .dataframe tbody tr th {\n        vertical-align: top;\n    }\n\n    .dataframe thead th {\n        text-align: right;\n    }\n</style>\n<table border=\"1\" class=\"dataframe\">\n  <thead>\n    <tr style=\"text-align: right;\">\n      <th>Feature</th>\n      <th>0</th>\n      <th>1</th>\n      <th>2</th>\n      <th>3</th>\n      <th>4</th>\n      <th>5</th>\n      <th>6</th>\n      <th>7</th>\n      <th>8</th>\n      <th>9</th>\n      <th>...</th>\n      <th>40</th>\n      <th>41</th>\n      <th>42</th>\n      <th>43</th>\n      <th>44</th>\n      <th>45</th>\n      <th>46</th>\n      <th>47</th>\n      <th>48</th>\n      <th>49</th>\n    </tr>\n    <tr>\n      <th>User</th>\n      <th></th>\n      <th></th>\n      <th></th>\n      <th></th>\n      <th></th>\n      <th></th>\n      <th></th>\n      <th></th>\n      <th></th>\n      <th></th>\n      <th></th>\n      <th></th>\n      <th></th>\n      <th></th>\n      <th></th>\n      <th></th>\n      <th></th>\n      <th></th>\n      <th></th>\n      <th></th>\n      <th></th>\n    </tr>\n  </thead>\n  <tbody>\n    <tr>\n      <td>0</td>\n      <td>-0.023850</td>\n      <td>-0.010317</td>\n      <td>0.043563</td>\n      <td>0.033008</td>\n      <td>-0.008568</td>\n      <td>-0.062246</td>\n      <td>-0.032498</td>\n      <td>0.065519</td>\n      <td>-0.022356</td>\n      <td>-0.087996</td>\n      <td>...</td>\n      <td>-0.045332</td>\n      <td>0.019596</td>\n      <td>-0.004090</td>\n      <td>-0.008276</td>\n      <td>0.008428</td>\n      <td>0.009293</td>\n      <td>-0.039601</td>\n      <td>0.063574</td>\n      <td>-0.047043</td>\n      <td>0.065100</td>\n    </tr>\n    <tr>\n      <td>1</td>\n      <td>0.004085</td>\n      <td>0.001533</td>\n      <td>0.009338</td>\n      <td>-0.004281</td>\n      <td>0.003913</td>\n      <td>-0.001472</td>\n      <td>0.002720</td>\n      <td>0.014102</td>\n      <td>-0.000041</td>\n      <td>-0.006346</td>\n      <td>...</td>\n      <td>0.000233</td>\n      <td>0.003945</td>\n      <td>0.001471</td>\n      <td>0.000503</td>\n      <td>0.004477</td>\n      <td>0.000182</td>\n      <td>-0.002312</td>\n      <td>-0.001367</td>\n      <td>0.004165</td>\n      <td>-0.001497</td>\n    </tr>\n    <tr>\n      <td>2</td>\n      <td>-0.000219</td>\n      <td>0.027465</td>\n      <td>-0.013980</td>\n      <td>-0.005643</td>\n      <td>0.012661</td>\n      <td>-0.012984</td>\n      <td>0.008223</td>\n      <td>-0.003481</td>\n      <td>-0.017689</td>\n      <td>0.022440</td>\n      <td>...</td>\n      <td>0.008264</td>\n      <td>0.030386</td>\n      <td>0.006232</td>\n      <td>0.007298</td>\n      <td>0.018440</td>\n      <td>-0.011802</td>\n      <td>-0.002255</td>\n      <td>-0.007778</td>\n      <td>0.007252</td>\n      <td>-0.011537</td>\n    </tr>\n    <tr>\n      <td>3</td>\n      <td>-0.132685</td>\n      <td>0.040978</td>\n      <td>0.054601</td>\n      <td>-0.244933</td>\n      <td>-0.088854</td>\n      <td>-0.155847</td>\n      <td>0.030727</td>\n      <td>-0.030349</td>\n      <td>0.077923</td>\n      <td>-0.004483</td>\n      <td>...</td>\n      <td>-0.006016</td>\n      <td>0.018584</td>\n      <td>0.000894</td>\n      <td>-0.046703</td>\n      <td>0.015575</td>\n      <td>-0.010407</td>\n      <td>0.005785</td>\n      <td>0.017658</td>\n      <td>0.030165</td>\n      <td>-0.022175</td>\n    </tr>\n    <tr>\n      <td>4</td>\n      <td>0.025887</td>\n      <td>-0.005396</td>\n      <td>0.021183</td>\n      <td>-0.000720</td>\n      <td>-0.004422</td>\n      <td>0.007147</td>\n      <td>0.011078</td>\n      <td>0.020184</td>\n      <td>-0.007103</td>\n      <td>-0.003843</td>\n      <td>...</td>\n      <td>0.001725</td>\n      <td>0.005426</td>\n      <td>0.004276</td>\n      <td>-0.002932</td>\n      <td>0.002457</td>\n      <td>0.005183</td>\n      <td>0.005671</td>\n      <td>0.000756</td>\n      <td>0.001015</td>\n      <td>-0.005952</td>\n    </tr>\n  </tbody>\n</table>\n<p>5 rows × 50 columns</p>\n</div>"
          },
          "metadata": {},
          "execution_count": 5
        }
      ]
    },
    {
      "cell_type": "code",
      "execution_count": 9,
      "metadata": {},
      "outputs": [
        {
          "output_type": "stream",
          "name": "stdout",
          "text": "(610, 50)\n"
        }
      ],
      "source": [
        "usF = UserFeatures.to_numpy()\n",
        "print(usF.shape)"
      ]
    },
    {
      "cell_type": "markdown",
      "metadata": {
        "id": "seAaif9diQq1",
        "colab_type": "text"
      },
      "source": [
        "***Similarity calculation***"
      ]
    },
    {
      "cell_type": "code",
      "metadata": {
        "id": "noHevUzeiXTb",
        "colab_type": "code",
        "colab": {}
      },
      "source": [
        "def sim(embedding):\n",
        "    \n",
        "    rows,cols = embedding.shape\n",
        "    s = np.zeros((rows, rows))\n",
        "    count=0\n",
        "    for i in range(rows):\n",
        "        if i%10 == 0:\n",
        "            print(i)\n",
        "        s[i][i]=1\n",
        "        for j in range(i+1, rows):\n",
        "            count+=2\n",
        "            attr1 = embedding[i] - np.mean(embedding[i])\n",
        "            attr2 = embedding[j] - np.mean(embedding[j])\n",
        "            # print(attr1.shape, attr2.shape)\n",
        "\n",
        "            num = np.sum(attr1 * attr2)\n",
        "            dem1 = np.sqrt(np.sum(np.square(attr1)))\n",
        "            dem2 = np.sqrt(np.sum(np.square(attr2)))\n",
        "\n",
        "            # print(dem1.shape, dem2.shape)\n",
        "            # s[i][j] = np.sum(attr1 * attr2)/((np.sqrt(np.sum(np.square(attr1)))) * np.sqrt(np.sum(np.square(attr2))))\n",
        "            if dem1==0 or dem2==0:\n",
        "                s[i][j]=0\n",
        "            else:\n",
        "                s[i][j] = num / (dem1* dem2)\n",
        "            s[j][i]=s[i][j]\n",
        "\n",
        "    return s\n"
      ],
      "execution_count": 4,
      "outputs": []
    },
    {
      "cell_type": "code",
      "metadata": {
        "id": "9c8S8V-QxtRJ",
        "colab_type": "code",
        "colab": {}
      },
      "source": [
        "userSimilarity = pd.DataFrame(sim(usF))"
      ],
      "execution_count": 10,
      "outputs": [
        {
          "output_type": "stream",
          "name": "stdout",
          "text": "0\n10\n20\n30\n40\n50\n60\n70\n80\n90\n100\n110\n120\n130\n140\n150\n160\n170\n180\n190\n200\n210\n220\n230\n240\n250\n260\n270\n280\n290\n300\n310\n320\n330\n340\n350\n360\n370\n380\n390\n400\n410\n420\n430\n440\n450\n460\n470\n480\n490\n500\n510\n520\n530\n540\n550\n560\n570\n580\n590\n600\n"
        }
      ]
    },
    {
      "cell_type": "code",
      "execution_count": 13,
      "metadata": {},
      "outputs": [
        {
          "output_type": "execute_result",
          "data": {
            "text/plain": "User       0         1         2         3         4         5         6    \\\n0     1.000000  0.077814 -0.196010  0.174314 -0.045785 -0.182224 -0.129508   \n1     0.077814  1.000000  0.045605 -0.013101  0.586820 -0.039078 -0.285784   \n2    -0.196010  0.045605  1.000000 -0.032538 -0.120896  0.062210 -0.151819   \n3     0.174314 -0.013101 -0.032538  1.000000 -0.171909  0.138072  0.262965   \n4    -0.045785  0.586820 -0.120896 -0.171909  1.000000 -0.142477  0.088421   \n5    -0.182224 -0.039078  0.062210  0.138072 -0.142477  1.000000  0.176619   \n6    -0.129508 -0.285784 -0.151819  0.262965  0.088421  0.176619  1.000000   \n7    -0.105748 -0.155779 -0.100704  0.203622  0.020536 -0.117887  0.166971   \n8     0.043529 -0.255068  0.251522 -0.089497 -0.055837  0.085144  0.053018   \n9     0.129575  0.126314  0.212336  0.276257 -0.050462  0.083741 -0.228083   \n\nUser       7         8         9    ...       600       601       602  \\\n0    -0.105748  0.043529  0.129575  ... -0.126970  0.206101 -0.142322   \n1    -0.155779 -0.255068  0.126314  ... -0.237300 -0.344181 -0.009584   \n2    -0.100704  0.251522  0.212336  ... -0.084211 -0.141953  0.157288   \n3     0.203622 -0.089497  0.276257  ... -0.091453 -0.028912 -0.046802   \n4     0.020536 -0.055837 -0.050462  ... -0.115359 -0.300111 -0.040181   \n5    -0.117887  0.085144  0.083741  ...  0.063049 -0.080699 -0.030968   \n6     0.166971  0.053018 -0.228083  ...  0.080911  0.040819 -0.015732   \n7     1.000000  0.131796 -0.127795  ...  0.303907 -0.223041  0.116855   \n8     0.131796  1.000000  0.025266  ...  0.211042  0.009246  0.018469   \n9    -0.127795  0.025266  1.000000  ... -0.367110  0.118098 -0.023316   \n\nUser       603       604       605       606       607       608       609  \n0    -0.168806  0.027704  0.110414 -0.067491 -0.092261  0.046468 -0.085530  \n1     0.062949 -0.070835  0.331739 -0.069984 -0.067641  0.411194  0.372952  \n2    -0.056093  0.058430 -0.393368  0.142952  0.027497  0.003653  0.233267  \n3    -0.099656  0.321783 -0.054782  0.096543  0.006788  0.140273 -0.020597  \n4     0.050976 -0.101644  0.158908 -0.354039 -0.157377  0.420743 -0.022273  \n5     0.060685 -0.029507 -0.011412  0.452207 -0.065934 -0.342275  0.098810  \n6    -0.062813  0.161509 -0.176894  0.119997 -0.131124 -0.059787 -0.113973  \n7     0.088790  0.198682  0.068046 -0.169572  0.103116 -0.011656 -0.099115  \n8    -0.143431  0.294607  0.038869 -0.150474  0.009570 -0.159467 -0.020452  \n9     0.207979  0.192231 -0.086389  0.020498 -0.135137 -0.076013  0.048513  \n\n[10 rows x 610 columns]",
            "text/html": "<div>\n<style scoped>\n    .dataframe tbody tr th:only-of-type {\n        vertical-align: middle;\n    }\n\n    .dataframe tbody tr th {\n        vertical-align: top;\n    }\n\n    .dataframe thead th {\n        text-align: right;\n    }\n</style>\n<table border=\"1\" class=\"dataframe\">\n  <thead>\n    <tr style=\"text-align: right;\">\n      <th>User</th>\n      <th>0</th>\n      <th>1</th>\n      <th>2</th>\n      <th>3</th>\n      <th>4</th>\n      <th>5</th>\n      <th>6</th>\n      <th>7</th>\n      <th>8</th>\n      <th>9</th>\n      <th>...</th>\n      <th>600</th>\n      <th>601</th>\n      <th>602</th>\n      <th>603</th>\n      <th>604</th>\n      <th>605</th>\n      <th>606</th>\n      <th>607</th>\n      <th>608</th>\n      <th>609</th>\n    </tr>\n  </thead>\n  <tbody>\n    <tr>\n      <td>0</td>\n      <td>1.000000</td>\n      <td>0.077814</td>\n      <td>-0.196010</td>\n      <td>0.174314</td>\n      <td>-0.045785</td>\n      <td>-0.182224</td>\n      <td>-0.129508</td>\n      <td>-0.105748</td>\n      <td>0.043529</td>\n      <td>0.129575</td>\n      <td>...</td>\n      <td>-0.126970</td>\n      <td>0.206101</td>\n      <td>-0.142322</td>\n      <td>-0.168806</td>\n      <td>0.027704</td>\n      <td>0.110414</td>\n      <td>-0.067491</td>\n      <td>-0.092261</td>\n      <td>0.046468</td>\n      <td>-0.085530</td>\n    </tr>\n    <tr>\n      <td>1</td>\n      <td>0.077814</td>\n      <td>1.000000</td>\n      <td>0.045605</td>\n      <td>-0.013101</td>\n      <td>0.586820</td>\n      <td>-0.039078</td>\n      <td>-0.285784</td>\n      <td>-0.155779</td>\n      <td>-0.255068</td>\n      <td>0.126314</td>\n      <td>...</td>\n      <td>-0.237300</td>\n      <td>-0.344181</td>\n      <td>-0.009584</td>\n      <td>0.062949</td>\n      <td>-0.070835</td>\n      <td>0.331739</td>\n      <td>-0.069984</td>\n      <td>-0.067641</td>\n      <td>0.411194</td>\n      <td>0.372952</td>\n    </tr>\n    <tr>\n      <td>2</td>\n      <td>-0.196010</td>\n      <td>0.045605</td>\n      <td>1.000000</td>\n      <td>-0.032538</td>\n      <td>-0.120896</td>\n      <td>0.062210</td>\n      <td>-0.151819</td>\n      <td>-0.100704</td>\n      <td>0.251522</td>\n      <td>0.212336</td>\n      <td>...</td>\n      <td>-0.084211</td>\n      <td>-0.141953</td>\n      <td>0.157288</td>\n      <td>-0.056093</td>\n      <td>0.058430</td>\n      <td>-0.393368</td>\n      <td>0.142952</td>\n      <td>0.027497</td>\n      <td>0.003653</td>\n      <td>0.233267</td>\n    </tr>\n    <tr>\n      <td>3</td>\n      <td>0.174314</td>\n      <td>-0.013101</td>\n      <td>-0.032538</td>\n      <td>1.000000</td>\n      <td>-0.171909</td>\n      <td>0.138072</td>\n      <td>0.262965</td>\n      <td>0.203622</td>\n      <td>-0.089497</td>\n      <td>0.276257</td>\n      <td>...</td>\n      <td>-0.091453</td>\n      <td>-0.028912</td>\n      <td>-0.046802</td>\n      <td>-0.099656</td>\n      <td>0.321783</td>\n      <td>-0.054782</td>\n      <td>0.096543</td>\n      <td>0.006788</td>\n      <td>0.140273</td>\n      <td>-0.020597</td>\n    </tr>\n    <tr>\n      <td>4</td>\n      <td>-0.045785</td>\n      <td>0.586820</td>\n      <td>-0.120896</td>\n      <td>-0.171909</td>\n      <td>1.000000</td>\n      <td>-0.142477</td>\n      <td>0.088421</td>\n      <td>0.020536</td>\n      <td>-0.055837</td>\n      <td>-0.050462</td>\n      <td>...</td>\n      <td>-0.115359</td>\n      <td>-0.300111</td>\n      <td>-0.040181</td>\n      <td>0.050976</td>\n      <td>-0.101644</td>\n      <td>0.158908</td>\n      <td>-0.354039</td>\n      <td>-0.157377</td>\n      <td>0.420743</td>\n      <td>-0.022273</td>\n    </tr>\n    <tr>\n      <td>5</td>\n      <td>-0.182224</td>\n      <td>-0.039078</td>\n      <td>0.062210</td>\n      <td>0.138072</td>\n      <td>-0.142477</td>\n      <td>1.000000</td>\n      <td>0.176619</td>\n      <td>-0.117887</td>\n      <td>0.085144</td>\n      <td>0.083741</td>\n      <td>...</td>\n      <td>0.063049</td>\n      <td>-0.080699</td>\n      <td>-0.030968</td>\n      <td>0.060685</td>\n      <td>-0.029507</td>\n      <td>-0.011412</td>\n      <td>0.452207</td>\n      <td>-0.065934</td>\n      <td>-0.342275</td>\n      <td>0.098810</td>\n    </tr>\n    <tr>\n      <td>6</td>\n      <td>-0.129508</td>\n      <td>-0.285784</td>\n      <td>-0.151819</td>\n      <td>0.262965</td>\n      <td>0.088421</td>\n      <td>0.176619</td>\n      <td>1.000000</td>\n      <td>0.166971</td>\n      <td>0.053018</td>\n      <td>-0.228083</td>\n      <td>...</td>\n      <td>0.080911</td>\n      <td>0.040819</td>\n      <td>-0.015732</td>\n      <td>-0.062813</td>\n      <td>0.161509</td>\n      <td>-0.176894</td>\n      <td>0.119997</td>\n      <td>-0.131124</td>\n      <td>-0.059787</td>\n      <td>-0.113973</td>\n    </tr>\n    <tr>\n      <td>7</td>\n      <td>-0.105748</td>\n      <td>-0.155779</td>\n      <td>-0.100704</td>\n      <td>0.203622</td>\n      <td>0.020536</td>\n      <td>-0.117887</td>\n      <td>0.166971</td>\n      <td>1.000000</td>\n      <td>0.131796</td>\n      <td>-0.127795</td>\n      <td>...</td>\n      <td>0.303907</td>\n      <td>-0.223041</td>\n      <td>0.116855</td>\n      <td>0.088790</td>\n      <td>0.198682</td>\n      <td>0.068046</td>\n      <td>-0.169572</td>\n      <td>0.103116</td>\n      <td>-0.011656</td>\n      <td>-0.099115</td>\n    </tr>\n    <tr>\n      <td>8</td>\n      <td>0.043529</td>\n      <td>-0.255068</td>\n      <td>0.251522</td>\n      <td>-0.089497</td>\n      <td>-0.055837</td>\n      <td>0.085144</td>\n      <td>0.053018</td>\n      <td>0.131796</td>\n      <td>1.000000</td>\n      <td>0.025266</td>\n      <td>...</td>\n      <td>0.211042</td>\n      <td>0.009246</td>\n      <td>0.018469</td>\n      <td>-0.143431</td>\n      <td>0.294607</td>\n      <td>0.038869</td>\n      <td>-0.150474</td>\n      <td>0.009570</td>\n      <td>-0.159467</td>\n      <td>-0.020452</td>\n    </tr>\n    <tr>\n      <td>9</td>\n      <td>0.129575</td>\n      <td>0.126314</td>\n      <td>0.212336</td>\n      <td>0.276257</td>\n      <td>-0.050462</td>\n      <td>0.083741</td>\n      <td>-0.228083</td>\n      <td>-0.127795</td>\n      <td>0.025266</td>\n      <td>1.000000</td>\n      <td>...</td>\n      <td>-0.367110</td>\n      <td>0.118098</td>\n      <td>-0.023316</td>\n      <td>0.207979</td>\n      <td>0.192231</td>\n      <td>-0.086389</td>\n      <td>0.020498</td>\n      <td>-0.135137</td>\n      <td>-0.076013</td>\n      <td>0.048513</td>\n    </tr>\n  </tbody>\n</table>\n<p>10 rows × 610 columns</p>\n</div>"
          },
          "metadata": {},
          "execution_count": 13
        }
      ],
      "source": [
        "userSimilarity.columns.name = \"User\"\n",
        "userSimilarity.head(10)"
      ]
    },
    {
      "cell_type": "code",
      "execution_count": 14,
      "metadata": {},
      "outputs": [],
      "source": [
        "userSimilarity.to_csv('UserFeature/UserSimilarity.csv')"
      ]
    },
    {
      "cell_type": "code",
      "execution_count": null,
      "metadata": {},
      "outputs": [],
      "source": []
    }
  ],
  "metadata": {
    "colab": {
      "name": "svd_LA.ipynb",
      "provenance": [],
      "collapsed_sections": []
    },
    "kernelspec": {
      "name": "python3",
      "display_name": "Python 3"
    }
  },
  "nbformat": 4,
  "nbformat_minor": 0
}